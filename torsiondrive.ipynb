{
 "cells": [
  {
   "cell_type": "markdown",
   "metadata": {},
   "source": [
    "# Visualization of Torsiondrive results\n",
    "\n",
    "## Code copied from https://github.com/lpwgroup/torsiondrive/blob/master/torsiondrive/tools/plot_2d_contour.py and adapted."
   ]
  },
  {
   "cell_type": "code",
   "execution_count": 1,
   "metadata": {},
   "outputs": [],
   "source": [
    "import matplotlib\n",
    "import matplotlib.pyplot as plt\n",
    "import numpy as np\n",
    "\n",
    "def load_data_from_scan_xyz(filename):\n",
    "    with open(filename) as f:\n",
    "        lines = f.readlines()\n",
    "    n_atoms = int(lines[0])\n",
    "    comment_lines = lines[1::n_atoms+2]\n",
    "    grid_data = dict()\n",
    "    for line in comment_lines:\n",
    "        ls = line.strip().split()\n",
    "        assert ls[0] == 'Dihedral' and ls[-2] == 'Energy', line\n",
    "        grid_energy = float(ls[-1])\n",
    "        grid_coord = []\n",
    "        for i in range(1, len(ls) - 2):\n",
    "            c = int(ls[i].replace('(', '').replace(',','').replace(')',''))\n",
    "            grid_coord.append(c)\n",
    "        grid_data[tuple(grid_coord)] = grid_energy\n",
    "    return grid_data\n",
    "\n",
    "def plot_grid_contour(grid_data, method='imshow', vmax=None):\n",
    "    grid_size = int(len(grid_data)**0.5)\n",
    "    grid_spacing = int(360 / grid_size)\n",
    "    print(f\"grid_size: {grid_size}  grid_spacing: {grid_spacing}\")\n",
    "    x_array = np.arange(-180, 180, grid_spacing, dtype=int) + grid_spacing\n",
    "    y_array = np.arange(-180, 180, grid_spacing, dtype=int) + grid_spacing\n",
    "    z_mat = np.zeros((grid_size, grid_size))\n",
    "    for i, x in enumerate(x_array):\n",
    "        for j, y in enumerate(y_array):\n",
    "            z_mat[i, j] = grid_data.get((x,y), np.nan)\n",
    "    # convert abs energies to relative energies\n",
    "    z_mat = (z_mat - z_mat.min()) * 627.509\n",
    "    if method == 'imshow':\n",
    "        plt.imshow(z_mat, vmax=vmax, cmap='rainbow', origin='lower', extent=(-165, 180, -165, 180))\n",
    "    elif method == 'contourf':\n",
    "        plt.contourf(x_array, y_array, z_mat, vmax=vmax, antialiased=True, cmap='rainbow')\n",
    "    plt.colorbar()\n",
    "    plt.xticks(x_array[1::2], x_array[1::2])\n",
    "    plt.yticks(y_array[1::2], y_array[1::2])\n",
    "    cs = plt.contour(x_array, y_array, z_mat, vmax=vmax, antialiased=True, colors='black')\n",
    "    plt.clabel(cs, fontsize=9, inline=1)\n",
    "    plt.show()"
   ]
  },
  {
   "cell_type": "markdown",
   "metadata": {},
   "source": [
    "## Options go in here"
   ]
  },
  {
   "cell_type": "code",
   "execution_count": 7,
   "metadata": {},
   "outputs": [
    {
     "name": "stdout",
     "output_type": "stream",
     "text": [
      "{(-150, -45): -1439.21818885, (-150, -30): -1439.25222694, (-150, -15): -1439.27000565, (-150, 0): -1439.27983712, (-150, 15): -1439.27031102, (-150, 30): -1439.24328401, (-150, 45): -1439.20174758, (-135, -45): -1439.21732808, (-135, -30): -1439.24983565, (-135, -15): -1439.2701189, (-135, 0): -1439.27840166, (-135, 15): -1439.27298679, (-135, 30): -1439.24852837, (-135, 45): -1439.20784145, (-120, -45): -1439.2118816, (-120, -30): -1439.25514293, (-120, -15): -1439.2677384, (-120, 0): -1439.27455651, (-120, 15): -1439.27133607, (-120, 30): -1439.24830457, (-120, 45): -1439.20810167, (-105, -45): -1439.21747647, (-105, -30): -1439.24190564, (-105, -15): -1439.25920715, (-105, 0): -1439.2731771, (-105, 15): -1439.26561613, (-105, 30): -1439.25130336, (-105, 45): -1439.2049282, (-90, -45): -1439.22787118, (-90, -30): -1439.25542819, (-90, -15): -1439.26924216, (-90, 0): -1439.26380656, (-90, 15): -1439.26183224, (-90, 30): -1439.2417404, (-90, 45): -1439.20702126, (-75, -45): -1439.23245849, (-75, -30): -1439.2621501, (-75, -15): -1439.27468377, (-75, 0): -1439.27475362, (-75, 15): -1439.2575353, (-75, 30): -1439.24299187, (-75, 45): -1439.2081484, (-60, -45): -1439.23259593, (-60, -30): -1439.27168791, (-60, -15): -1439.277467, (-60, 0): -1439.28368876, (-60, 15): -1439.26942729, (-60, 30): -1439.24167723, (-60, 45): -1439.20524402, (-45, -45): -1439.22857902, (-45, -30): -1439.26192433, (-45, -15): -1439.28004018, (-45, 0): -1439.28918057, (-45, 15): -1439.27751503, (-45, 30): -1439.26534907, (-45, 45): -1439.21394099, (-30, -45): -1439.22251305, (-30, -30): -1439.25697616, (-30, -15): -1439.27814011, (-30, 0): -1439.29134342, (-30, 15): -1439.2826302, (-30, 30): -1439.25705215, (-30, 45): -1439.21917943, (-15, -45): -1439.216281, (-15, -30): -1439.25024911, (-15, -15): -1439.27051656, (-15, 0): -1439.28937746, (-15, 15): -1439.28443842, (-15, 30): -1439.26074338, (-15, 45): -1439.2224451, (0, -45): -1439.20845377, (0, -30): -1439.2489749, (0, -15): -1439.27162761, (0, 0): -1439.28278346, (0, 15): -1439.28267442, (0, 30): -1439.26145969, (0, 45): -1439.22303034, (15, -45): -1439.20619346, (15, -30): -1439.24754275, (15, -15): -1439.27300367, (15, 0): -1439.27851407, (15, 15): -1439.27721613, (15, 30): -1439.259092, (15, 45): -1439.22163115, (30, -45): -1439.20254887, (30, -30): -1439.24328713, (30, -15): -1439.27485047, (30, 0): -1439.27977256, (30, 15): -1439.26859214, (30, 30): -1439.25177213, (30, 45): -1439.21506666}\n"
     ]
    }
   ],
   "source": [
    "grid_data = load_data_from_scan_xyz(\"/home/winter/onsager/tsqm/td/56sdistantres/scan.xyz\") # scan.xyz file from torsionscan launch\n",
    "print(grid_data)\n",
    "# plot_grid_contour(grid_data, method='imshow', vmax=-1400) #methods: contourf or imshow; vmax: max value of heat map"
   ]
  },
  {
   "cell_type": "code",
   "execution_count": null,
   "metadata": {},
   "outputs": [],
   "source": []
  }
 ],
 "metadata": {
  "kernelspec": {
   "display_name": "Python 3",
   "language": "python",
   "name": "python3"
  },
  "language_info": {
   "codemirror_mode": {
    "name": "ipython",
    "version": 3
   },
   "file_extension": ".py",
   "mimetype": "text/x-python",
   "name": "python",
   "nbconvert_exporter": "python",
   "pygments_lexer": "ipython3",
   "version": "3.6.8"
  }
 },
 "nbformat": 4,
 "nbformat_minor": 2
}
